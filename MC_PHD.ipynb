{
 "cells": [
  {
   "cell_type": "code",
   "execution_count": 55,
   "metadata": {},
   "outputs": [
    {
     "name": "stdout",
     "output_type": "stream",
     "text": [
      "=============================   GPU Information  ================================\n",
      "Device 1 of 1:\t\tNVIDIA GeForce RTX 4090\n",
      "Compute Capability:\t8.9\n",
      "Global Memory:\t\t25268649984 B\n",
      "Constant Memory:\t65536 B\n",
      "Shared Memory:\t\t49152 B\n",
      "Registers:\t\t65536\n",
      "Clock Speed:\t\t2.52 GHz\n",
      "Number of SMs:\t\t128\n",
      "Number of Cores:\t16384\n",
      "Auto-thread:\t\t524288\n",
      "Auto-block:\t\t64\n"
     ]
    },
    {
     "data": {
      "text/plain": [
       "[{'name': 'NVIDIA GeForce RTX 4090',\n",
       "  'id': 1,\n",
       "  'devcount': 1,\n",
       "  'major': 8,\n",
       "  'minor': 9,\n",
       "  'globalmem': 25268649984,\n",
       "  'constmem': 65536,\n",
       "  'sharedmem': 49152,\n",
       "  'regcount': 65536,\n",
       "  'clock': 2520000,\n",
       "  'sm': 128,\n",
       "  'core': 16384,\n",
       "  'autoblock': 64,\n",
       "  'autothread': 524288,\n",
       "  'maxgate': 0}]"
      ]
     },
     "execution_count": 55,
     "metadata": {},
     "output_type": "execute_result"
    }
   ],
   "source": [
    "import numpy as np\n",
    "import pmcx\n",
    "import jdata as jd\n",
    "from matplotlib import pyplot as plt\n",
    "from scipy.interpolate import interp1d\n",
    "from scipy.ndimage import median_filter\n",
    "pmcx.gpuinfo()"
   ]
  },
  {
   "cell_type": "code",
   "execution_count": 56,
   "metadata": {},
   "outputs": [],
   "source": [
    "def fft_gauss(in_arrayOriginal, kernel_size):\n",
    "    '''\n",
    "    Perform FFR Gauss low-pass filtering\n",
    "\n",
    "    in_array: input image\n",
    "    kernel_size: kernel size for smoothing\n",
    "    '''\n",
    "    if kernel_size > 0:\n",
    "        in_NaNs = np.isnan(in_arrayOriginal)\n",
    "        in_array = np.copy(in_arrayOriginal)\n",
    "        in_array[np.isinf(in_array)] = 0\n",
    "        in_array[np.isnan(in_array)] = 0\n",
    "\n",
    "        # FFT filter\n",
    "        im_fft = np.fft.fft2(in_array)\n",
    "        im_rfft_filtered = ndimage.fourier_gaussian(im_fft, kernel_size)\n",
    "        im_filtered = np.fft.ifft2(im_rfft_filtered)\n",
    "\n",
    "        # Power spectrum\n",
    "        pwr_spectrum = abs(np.fft.fftshift(im_fft))**2\n",
    "        pwr_spectrum_filtered = abs(np.fft.fftshift(im_rfft_filtered))**2\n",
    "\n",
    "        # Re-normalization\n",
    "        sum_ratio = in_array.sum()/im_filtered.sum()\n",
    "        im_filtered = im_filtered*sum_ratio\n",
    "        del in_array\n",
    "\n",
    "        im_output = np.full(np.shape(im_filtered), fill_value=np.NaN)\n",
    "        im_output[~in_NaNs] = im_filtered[~in_NaNs]\n",
    "        del im_filtered, in_NaNs\n",
    "\n",
    "        return im_output, pwr_spectrum, pwr_spectrum_filtered\n",
    "    else:\n",
    "        return in_arrayOriginal, 0, 0\n"
   ]
  },
  {
   "cell_type": "code",
   "execution_count": 57,
   "metadata": {},
   "outputs": [],
   "source": [
    "def mcxdettime(detp, prop, unitinmm=1):\n",
    "    \"\"\"\n",
    "    Recalculate the detected photon time using partial path data and\n",
    "    optical properties (for perturbation Monte Carlo or detector readings).\n",
    "\n",
    "    Parameters:\n",
    "    detp : dict\n",
    "        The 2nd output from mcxlab, detp must be a dictionary.\n",
    "    prop : ndarray\n",
    "        Optical property list, as defined in the cfg.prop field of mcxlab's input.\n",
    "    unitinmm : float, optional\n",
    "        Voxel edge-length in mm, should use cfg.unitinmm used to generate detp;\n",
    "        default is 1 mm.\n",
    "\n",
    "    Returns:\n",
    "    dett : ndarray\n",
    "        Recalculated detected photon time based on the partial path data and optical property table.\n",
    "    \"\"\"\n",
    "    R_C0 = 3.335640951981520e-12  # inverse of light speed in vacuum\n",
    "\n",
    "    # Check if 'prop' is provided in detp, if not, check if it's explicitly given\n",
    "    if 'prop' not in detp and prop is None:\n",
    "        raise ValueError('must provide input \"prop\"')\n",
    "\n",
    "    # Assign 'prop' from detp if not given\n",
    "    if prop is None:\n",
    "        prop = detp['prop']\n",
    "\n",
    "    # Check if 'unitinmm' is provided in detp, if not, use the default or the provided value\n",
    "    if 'unitinmm' in detp:\n",
    "        unitinmm = detp['unitinmm']\n",
    "\n",
    "    # Check if 'ppath' field exists in detp\n",
    "    if 'ppath' not in detp:\n",
    "        raise ValueError('the first input must be a dict with a subfield named \"ppath\"')\n",
    "\n",
    "    # Calculate the detected times\n",
    "    medianum = prop.shape[0]\n",
    "    if medianum <= 1:\n",
    "        raise ValueError('empty property list')\n",
    "\n",
    "    dett = np.zeros(detp['ppath'].shape[0])\n",
    "    for i in range(medianum - 1):\n",
    "        dett += prop[i + 1, 3] * detp['ppath'][:, i] * R_C0 * unitinmm\n",
    "\n",
    "    return dett\n",
    "\n",
    "def mcxdetweight(detp, prop, unitinmm=1):\n",
    "    \"\"\"\n",
    "    Recalculate the detected photon weight using partial path data and optical properties.\n",
    "    \n",
    "    Parameters:\n",
    "    detp (dict): The 2nd output from mcxlab. Must be a dictionary with necessary fields.\n",
    "    prop (np.ndarray): Optical property list.\n",
    "    unitinmm (float): Voxel edge-length in mm. Defaults to 1 if not provided.\n",
    "    \n",
    "    Returns:\n",
    "    np.ndarray: Recalculated detected photon weight.\n",
    "    \"\"\"\n",
    "    \n",
    "    # Check if 'prop' is provided\n",
    "    if prop is None:\n",
    "        if 'prop' in detp:\n",
    "            prop = detp['prop']\n",
    "        else:\n",
    "            raise ValueError('must provide input \"prop\"')\n",
    "    \n",
    "    medianum = prop.shape[0]\n",
    "    if medianum <= 1:\n",
    "        raise ValueError('empty property list')\n",
    "    \n",
    "    # Check if 'unitinmm' is provided\n",
    "    if unitinmm is None:\n",
    "        if 'unitinmm' in detp:\n",
    "            unitinmm = detp['unitinmm']\n",
    "        else:\n",
    "            unitinmm = 1\n",
    "    \n",
    "    # Initialize 'detw'\n",
    "    if isinstance(detp, dict):\n",
    "        if 'w0' not in detp:\n",
    "            detw = np.ones(detp['ppath'].shape[0])\n",
    "        else:\n",
    "            detw = detp['w0']\n",
    "        \n",
    "        for i in range(medianum - 1):\n",
    "            detw *= np.exp(-prop[i + 1, 0] * detp['ppath'][:, i] * unitinmm)\n",
    "    else:\n",
    "        raise ValueError('the first input must be a dictionary with a subfield named \"ppath\"')\n",
    "    \n",
    "    return detw\n",
    "\n",
    "def mcxdettpsf(detp, detnum, prop, time):\n",
    "    \"\"\"\n",
    "    Calculate the temporal point spread function (TPSF) curve of a specified detector.\n",
    "    \n",
    "    Parameters:\n",
    "    detp (dict): The 2nd output from mcxlab. Must be a dictionary with 'detid' and 'ppath' subfields.\n",
    "    detnum (int): Specified detector number.\n",
    "    prop (np.ndarray): Optical property list.\n",
    "    time (list or np.ndarray): Distribution of time bins, a 1x3 vector [tstart, tend, tstep].\n",
    "    \n",
    "    Returns:\n",
    "    np.ndarray: Calculated temporal point spread function curve of the specified detector.\n",
    "    \"\"\"\n",
    "    \n",
    "    # Select the photon data of the specified detector\n",
    "    mask = detp['detid'] == detnum\n",
    "    detp['ppath'] = detp['ppath'][mask, :]\n",
    "    detp['detid'] = detp['detid'][mask]\n",
    "    \n",
    "    # Calculate the detected photon weight and arrival time\n",
    "    replayweight = mcxdetweight(detp, prop)\n",
    "    replaytime = mcxdettime(detp, prop)\n",
    "    \n",
    "    # Define temporal point spread function vector\n",
    "    nTG = round((time[1] - time[0]) / time[2])  # maximum time gate number\n",
    "    tpsf = np.zeros(nTG)\n",
    "    \n",
    "    # Calculate the time bin, making sure not to exceed the boundary\n",
    "    ntg = np.ceil((replaytime - time[0]) / time[2]).astype(int)\n",
    "    ntg[ntg < 1] = 1\n",
    "    ntg[ntg > nTG] = nTG\n",
    "    \n",
    "    # Add each photon weight to the corresponding time bin\n",
    "    for i in range(len(replayweight)):\n",
    "        tpsf[ntg[i] - 1] += replayweight[i]\n",
    "    \n",
    "    return tpsf"
   ]
  },
  {
   "cell_type": "code",
   "execution_count": null,
   "metadata": {},
   "outputs": [],
   "source": [
    "def MCPHD (uaBulk, usBulk, g=0.9, n=1.4, sdSep = 20, slabThickness = 60, detRad = 3, isRefl = True, maxTime = 5e-9, nTimeBins=500, nPhotons = 1e8):\n",
    "    maxSizeX = 100\n",
    "    maxSizeY = 100\n",
    "    maxSizeZ = 70\n",
    "    initialLayerZ = 2\n",
    "    cfg={}\n",
    "    cfg['nphoton']=nPhotons\n",
    "    cfg['vol']=np.zeros([maxSizeX, maxSizeY, maxSizeZ], dtype='uint8')\n",
    "    cfg['tstart']=0\n",
    "    cfg['tend']=5e-9\n",
    "    cfg['tstep']=5e-9\n",
    "    cfg['srcdir']=[0,0,1]\n",
    "    cfg['issavedet']=1                         # cfg.issavedet must be set to 1 or True in order to save detected photons\n",
    "    cfg['issrcfrom0']=1   \n",
    "\n",
    "    cfg['vol'][:, :, initialLayerZ:slabThickness+initialLayerZ]=1\n",
    "    cfg['srcpos']=[int(maxSizeX/2),int(maxSizeY/2),initialLayerZ]\n",
    "    cfg['prop']=[[0, 0, 1, 1], [uaBulk, usBulk, g, n]]\n",
    "    print(cfg['prop'])\n",
    "    if isRefl:\n",
    "        cfg['detpos']=[[int(maxSizeX/2)+sdSep,int(maxSizeY/2),initialLayerZ,detRad]]   # to detect photons, one must first define detectors \n",
    "    else:\n",
    "        cfg['detpos']=[[int(maxSizeX/2)+sdSep,int(maxSizeY/2),initialLayerZ+slabThickness,detRad]]   # to detect photons, one must first define detectors  \n",
    "    import time\n",
    "    start = time.time()\n",
    "    res=pmcx.mcxlab(cfg)\n",
    "    \n",
    "    maxTime = cfg['tend']\n",
    "    binSize = maxTime/nTimeBins\n",
    "    \n",
    "    timeParams = [0, maxTime, binSize]\n",
    "    timeBins = np.linspace(timeParams[0], timeParams[1], nTimeBins)\n",
    "    \n",
    "    times = mcxdettpsf(res['detp'], 1, cfg['prop'], timeParams)\n",
    "    \n",
    "    print(\"Simulation took {} seconds.\".format(time.time()-start))\n",
    "    #histo = np.histogram(times,bins=100, range=[0,maxTime])\n",
    "    \n",
    "    #return [histo[0]/np.sum(histo[0]), histo[1], cfg, res]\n",
    "    return [times/np.sum(times), cfg, res], timeBins"
   ]
  },
  {
   "cell_type": "code",
   "execution_count": 59,
   "metadata": {},
   "outputs": [
    {
     "name": "stdout",
     "output_type": "stream",
     "text": [
      "[[0, 0, 1, 1], [0.04, 10, 0.9, 1.4]]\n",
      "nphoton: 5e+08\n",
      "tstart: 0\n",
      "tstep: 5e-09\n",
      "tend: 5e-09\n",
      "issrcfrom0: 1\n",
      "issavedet: 1\n",
      "Simulation took 15.902801275253296 seconds.\n"
     ]
    },
    {
     "name": "stderr",
     "output_type": "stream",
     "text": [
      "###############################################################################\n",
      "#                      Monte Carlo eXtreme (MCX) -- CUDA                      #\n",
      "#          Copyright (c) 2009-2024 Qianqian Fang <q.fang at neu.edu>          #\n",
      "#                https://mcx.space/  &  https://neurojson.io/                 #\n",
      "#                                                                             #\n",
      "# Computational Optics & Translational Imaging (COTI) Lab- http://fanglab.org #\n",
      "#   Department of Bioengineering, Northeastern University, Boston, MA, USA    #\n",
      "###############################################################################\n",
      "#    The MCX Project is funded by the NIH/NIGMS under grant R01-GM114365      #\n",
      "###############################################################################\n",
      "#  Open-source codes and reusable scientific data are essential for research, #\n",
      "# MCX proudly developed human-readable JSON-based data formats for easy reuse.#\n",
      "#                                                                             #\n",
      "#Please visit our free scientific data sharing portal at https://neurojson.io/#\n",
      "# and consider sharing your public datasets in standardized JSON/JData format #\n",
      "###############################################################################\n",
      "$Rev::70f95b$v2024.6 $Date::2024-08-22 01:08:07 -04$ by $Author::Qianqian Fang$\n",
      "###############################################################################\n",
      "- code name: [Fermi MCX] compiled by nvcc [9.2] for CUDA-arch [350] on [Aug 22 2024]\n",
      "- compiled with: RNG [xorshift128+] with Seed Length [4]\n",
      "\n",
      "GPU=1 (NVIDIA GeForce RTX 4090) threadph=953 extra=353536 np=500000000 nthread=524288 maxgate=1 repetition=1\n",
      "initializing streams ...\tinit complete : 0 ms\n",
      "requesting 1536 bytes of shared memory\n",
      "launching MCX simulation for time window [0.00e+00ns 5.00e+00ns] ...\n",
      "simulation run# 1 ... \n",
      "kernel complete:  \t15708 ms\n",
      "retrieving fields ... \tdetected 714461 photons, total: 714461\ttransfer complete:\t15716 ms\n",
      "normalizing raw data ...\tsource 1, normalization factor alpha=0.400000\n",
      "data normalization complete : 15718 ms\n",
      "simulated 500000000 photons (500000000) with 524288 threads (repeat x1)\n",
      "MCX simulation speed: 31887.76 photon/ms\n",
      "total simulated energy: 500000000.00\tabsorbed: 59.36674%\n",
      "(loss due to initial specular reflection is excluded in the total)\n"
     ]
    }
   ],
   "source": [
    "histo, timeParams = MCPHD(uaBulk=0.04, usBulk=10, g=0.9, n=1.4, sdSep=20, slabThickness=60, detRad=3, isRefl=True, maxTime=5e-9, nPhotons=5e8, nTimeBins=4096)"
   ]
  },
  {
   "cell_type": "code",
   "execution_count": 60,
   "metadata": {},
   "outputs": [
    {
     "data": {
      "text/plain": [
       "[<matplotlib.lines.Line2D at 0x7ccc127e4560>]"
      ]
     },
     "execution_count": 60,
     "metadata": {},
     "output_type": "execute_result"
    },
    {
     "data": {
      "image/png": "[encoded data removed]",
      "text/plain": [
       "<Figure size 640x480 with 1 Axes>"
      ]
     },
     "metadata": {},
     "output_type": "display_data"
    }
   ],
   "source": [
    "plt.plot(timeParams, histo[0])"
   ]
  },
  {
   "cell_type": "code",
   "execution_count": 61,
   "metadata": {},
   "outputs": [
    {
     "data": {
      "text/plain": [
       "[<matplotlib.lines.Line2D at 0x7ccc16d77650>]"
      ]
     },
     "execution_count": 61,
     "metadata": {},
     "output_type": "execute_result"
    },
    {
     "data": {
      "image/png": "[encoded data removed]",
      "text/plain": [
       "<Figure size 640x480 with 1 Axes>"
      ]
     },
     "metadata": {},
     "output_type": "display_data"
    }
   ],
   "source": [
    "plt.plot(histo[0])"
   ]
  },
  {
   "cell_type": "code",
   "execution_count": null,
   "metadata": {},
   "outputs": [],
   "source": []
  }
 ],
 "metadata": {
  "kernelspec": {
   "display_name": ".venv",
   "language": "python",
   "name": "python3"
  },
  "language_info": {
   "codemirror_mode": {
    "name": "ipython",
    "version": 3
   },
   "file_extension": ".py",
   "mimetype": "text/x-python",
   "name": "python",
   "nbconvert_exporter": "python",
   "pygments_lexer": "ipython3",
   "version": "3.12.3"
  }
 },
 "nbformat": 4,
 "nbformat_minor": 2
}
