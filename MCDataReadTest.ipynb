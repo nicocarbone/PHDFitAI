{
 "cells": [
  {
   "cell_type": "code",
   "execution_count": 21,
   "id": "ce1940bc",
   "metadata": {},
   "outputs": [],
   "source": [
    "import numpy as np\n",
    "import matplotlib.pyplot as plt\n",
    "import csv"
   ]
  },
  {
   "cell_type": "code",
   "execution_count": 22,
   "id": "59c76d84",
   "metadata": {},
   "outputs": [],
   "source": [
    "def read_mc_data_csv(filename):\n",
    "    \"\"\"\n",
    "    Reads Monte Carlo simulation data from a CSV file.\n",
    "\n",
    "    Args:\n",
    "        filename (str): The path to the CSV file.\n",
    "\n",
    "    Returns:\n",
    "        list: A list of dictionaries, where each dictionary represents a simulation run\n",
    "              with keys 'ua', 'ups', and 'results'.\n",
    "    \"\"\"\n",
    "    all_data = []\n",
    "    try:\n",
    "        with open(filename, 'r', newline='') as f:\n",
    "            reader = csv.reader(f)\n",
    "            for i, row in enumerate(reader):\n",
    "                try:\n",
    "                    ua = float(row[0])\n",
    "                    us = float(row[1])\n",
    "                    results = np.array([float(x) for x in row[2:]])\n",
    "                    all_data.append({'ua': ua, 'us': us, 'results': results})\n",
    "                except ValueError as e:\n",
    "                    print(f\"Warning: Could not parse numerical data in row {i+1} of {filename}: {e}\")\n",
    "                    continue\n",
    "    except FileNotFoundError:\n",
    "        print(f\"Error: File '{filename}' not found.\")\n",
    "        return []\n",
    "    return all_data"
   ]
  },
  {
   "cell_type": "code",
   "execution_count": 23,
   "id": "746e51c6",
   "metadata": {},
   "outputs": [
    {
     "name": "stdout",
     "output_type": "stream",
     "text": [
      "Read 10 simulation runs from SIMs/rho30mm/mcSims_V1.dat\n"
     ]
    }
   ],
   "source": [
    "rho = 30\n",
    "resultsFilename = \"mcSims_V1.dat\"\n",
    "resultsFolder = \"SIMs/rho{}mm/\".format(rho)\n",
    "mcResults = read_mc_data_csv(resultsFolder + resultsFilename)\n",
    "print(\"Read {} simulation runs from {}\".format(len(mcResults), resultsFolder + resultsFilename))"
   ]
  },
  {
   "cell_type": "code",
   "execution_count": 24,
   "id": "804363db",
   "metadata": {},
   "outputs": [],
   "source": [
    "ua = []\n",
    "us = []\n",
    "phds = []\n",
    "\n",
    "for i in range(len(mcResults)):\n",
    "    ua.append(mcResults[i]['ua'])\n",
    "    us.append(mcResults[i]['us'])\n",
    "    phds.append(mcResults[i]['results'])"
   ]
  },
  {
   "cell_type": "code",
   "execution_count": null,
   "id": "dab1b633",
   "metadata": {},
   "outputs": [
    {
     "name": "stdout",
     "output_type": "stream",
     "text": [
      "ua = 0.01882416229247226, us = 3.071615872338352\n"
     ]
    },
    {
     "data": {
      "text/plain": [
       "[<matplotlib.lines.Line2D at 0x7af31de65f40>]"
      ]
     },
     "execution_count": 28,
     "metadata": {},
     "output_type": "execute_result"
    },
    {
     "data": {
      "image/png": "[encoded data removed]",
      "text/plain": [
       "<Figure size 640x480 with 1 Axes>"
      ]
     },
     "metadata": {},
     "output_type": "display_data"
    }
   ],
   "source": [
    "i = \n",
    "print(\"ua = {}, us = {}\".format(ua[i], us[i]))\n",
    "plt.plot(phds[i])"
   ]
  },
  {
   "cell_type": "code",
   "execution_count": null,
   "id": "611cdb58",
   "metadata": {},
   "outputs": [],
   "source": []
  }
 ],
 "metadata": {
  "kernelspec": {
   "display_name": "venv",
   "language": "python",
   "name": "python3"
  },
  "language_info": {
   "codemirror_mode": {
    "name": "ipython",
    "version": 3
   },
   "file_extension": ".py",
   "mimetype": "text/x-python",
   "name": "python",
   "nbconvert_exporter": "python",
   "pygments_lexer": "ipython3",
   "version": "3.12.3"
  }
 },
 "nbformat": 4,
 "nbformat_minor": 5
}
